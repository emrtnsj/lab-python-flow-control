{
 "cells": [
  {
   "cell_type": "markdown",
   "id": "d3bfc191-8885-42ee-b0a0-bbab867c6f9f",
   "metadata": {
    "tags": []
   },
   "source": [
    "# Lab | Flow Control"
   ]
  },
  {
   "cell_type": "markdown",
   "id": "3851fcd1-cf98-4653-9c89-e003b7ec9400",
   "metadata": {},
   "source": [
    "## Exercise: Managing Customer Orders Optimized\n",
    "\n",
    "In the last lab, you were starting an online store that sells various products. To ensure smooth operations, you developed a program that manages customer orders and inventory.\n",
    "\n",
    "You did so without using flow control. Let's go a step further and improve this code.\n",
    "\n",
    "Follow the steps below to complete the exercise:\n",
    "\n",
    "1. Look at your code from the lab data structures, and improve repeated code with loops.\n",
    "\n",
    "2. Instead of asking the user to input the name of three products that a customer wants to order, do the following:\n",
    "    \n",
    "    a. Prompt the user to enter the name of a product that a customer wants to order.\n",
    "    \n",
    "    b. Add the product name to the \"customer_orders\" set.\n",
    "    \n",
    "    c. Ask the user if they want to add another product (yes/no).\n",
    "    \n",
    "    d. Continue the loop until the user does not want to add another product.\n",
    "\n",
    "3. Instead of updating the inventory by subtracting 1 from the quantity of each product, only do it for  the products that were ordered (those in \"customer_orders\")."
   ]
  },
  {
   "cell_type": "code",
   "execution_count": null,
   "id": "684c8b6e",
   "metadata": {},
   "outputs": [],
   "source": [
    "products = [\"t-shirt\", \"mug\", \"hat\", \"book\", \"keychain\"]\n",
    "inventory = {}\n",
    "total_av = 0  #initiating total available in store\n",
    "\n",
    "for product in products:\n",
    "    x = int(input(f\"Enter the quantity of {product}: \")) #x is the quantaty\n",
    "    inventory[product] = x\n",
    "    total_av += x   #adding the products to the inventory to get the total\n",
    "#print(total_av)\n",
    "    \n",
    "print(inventory)\n",
    "customer_orders = set()  #creating an empty set\n",
    "\n",
    "\n",
    "\n",
    "a = True\n",
    "while a:\n",
    "    print(\"Enter a product you want to order:\")\n",
    "    order = input().strip().lower()  #strip all whitecases and lowering cases to be sure the input matches\n",
    "    if order in products:\n",
    "        customer_orders.add(order)\n",
    "    else:\n",
    "        print(f\"Product not found\")\n",
    "    continuar=input(\"Another product?. yes/no: \").strip().lower()\n",
    "    if continuar == \"no\":\n",
    "        a = False\n",
    "    elif continuar == \"yes\":\n",
    "        a = True\n",
    "        \n",
    "    \n",
    "print(\"\\nProducts in your order:\")\n",
    "for product in customer_orders:\n",
    "    print(product)\n",
    "    \n",
    "\n",
    "total_or = 0  #total products ordered initiated to 0\n",
    "for orde in customer_orders:\n",
    "    if orde in inventory: #we need ti check if the quantatity ordered is available, if the user tries to input a bigger value than the available in inventory we equal the ordered to the max available\n",
    "        max_ord= min(inventory[orde], int(input(f\"Enter the quantity of {orde} you want to order: \")))\n",
    "        print(f\"{orde} ordered: {max_ord}\")\n",
    "        total_or += max_ord\n",
    "    \n",
    "\n",
    "\n",
    "#percentage ordered\n",
    "perc_ord = (total_or / total_av) * 100\n",
    "\n",
    "\n",
    "print(\"\\nOrder Statistics:\")\n",
    "print(f\"Total Products Ordered: {total_or}\")\n",
    "print(f\"Percentage of Products Ordered: {perc_ord}\")\n",
    "\n",
    "\n",
    "#subtrating 1 from every product customer ordered in inventory\n",
    "for product in customer_orders:\n",
    "    inventory[product] -= 1\n",
    "\n",
    "print(f\"Updated inventory\")\n",
    "for product, x in inventory.items():\n",
    "        print(f\"{product} - {x}\")\n"
   ]
  },
  {
   "cell_type": "code",
   "execution_count": null,
   "id": "38f4790e",
   "metadata": {},
   "outputs": [],
   "source": []
  }
 ],
 "metadata": {
  "kernelspec": {
   "display_name": "Python 3 (ipykernel)",
   "language": "python",
   "name": "python3"
  },
  "language_info": {
   "codemirror_mode": {
    "name": "ipython",
    "version": 3
   },
   "file_extension": ".py",
   "mimetype": "text/x-python",
   "name": "python",
   "nbconvert_exporter": "python",
   "pygments_lexer": "ipython3",
   "version": "3.11.7"
  }
 },
 "nbformat": 4,
 "nbformat_minor": 5
}
